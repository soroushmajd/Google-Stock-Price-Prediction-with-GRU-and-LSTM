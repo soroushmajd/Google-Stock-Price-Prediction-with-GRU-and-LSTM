{
  "nbformat": 4,
  "nbformat_minor": 0,
  "metadata": {
    "colab": {
      "name": "DL_4.ipynb",
      "provenance": [],
      "collapsed_sections": []
    },
    "kernelspec": {
      "name": "python3",
      "display_name": "Python 3"
    },
    "language_info": {
      "name": "python"
    },
    "accelerator": "GPU",
    "gpuClass": "standard"
  },
  "cells": [
    {
      "cell_type": "code",
      "metadata": {
        "id": "4xYEcXFB8hfD"
      },
      "source": [
        "import numpy as np\n",
        "import matplotlib.pyplot as plt\n",
        "import pandas as pd\n",
        "from sklearn.preprocessing import  MinMaxScaler"
      ],
      "execution_count": null,
      "outputs": []
    },
    {
      "cell_type": "code",
      "metadata": {
        "id": "27Kx5zEG-ZKr"
      },
      "source": [
        "stock_data = pd.read_csv ('/content/GOOG.csv', date_parser= True)\n",
        "data_train = stock_data[0:1862].copy()\n",
        "data_test = stock_data[1862:].copy()\n",
        "train_data = data_train.drop(['Date', 'Adj Close'], axis = 1)"
      ],
      "execution_count": null,
      "outputs": []
    },
    {
      "cell_type": "markdown",
      "source": [
        "minmaxscaler"
      ],
      "metadata": {
        "id": "yPtvNIeUxx1K"
      }
    },
    {
      "cell_type": "code",
      "metadata": {
        "colab": {
          "base_uri": "https://localhost:8080/"
        },
        "id": "x6tmdryko3wr",
        "outputId": "453c1dda-0c35-4ef2-d957-16daa080cb3c"
      },
      "source": [
        "scaler = MinMaxScaler()\n",
        "train_data = scaler.fit_transform(train_data)\n",
        "train_data\n"
      ],
      "execution_count": null,
      "outputs": [
        {
          "output_type": "execute_result",
          "data": {
            "text/plain": [
              "array([[0.02546763, 0.02753707, 0.02909285, 0.02942896, 0.58566104],\n",
              "       [0.03054502, 0.03125952, 0.03354367, 0.03314949, 0.30879981],\n",
              "       [0.03239772, 0.03111705, 0.03431841, 0.03231186, 0.13128503],\n",
              "       ...,\n",
              "       [0.92247394, 0.91469444, 0.91011219, 0.90157789, 0.1557151 ],\n",
              "       [0.92215059, 0.91021532, 0.9167247 , 0.91338478, 0.11871125],\n",
              "       [0.93818577, 0.9329652 , 0.93791412, 0.94133664, 0.11850527]])"
            ]
          },
          "metadata": {},
          "execution_count": 4
        }
      ]
    },
    {
      "cell_type": "code",
      "metadata": {
        "id": "hjSHbwyCpVPo"
      },
      "source": [
        "X_train = []\n",
        "Y_train = []\n",
        "for i in range (30, train_data.shape[0]):\n",
        "    X_train.append(train_data[i-30: i]) \n",
        "    Y_train.append(train_data[i,0])\n",
        "X_train = np.array(X_train)\n",
        "Y_train = np.array(Y_train)"
      ],
      "execution_count": null,
      "outputs": []
    },
    {
      "cell_type": "markdown",
      "metadata": {
        "id": "fEKpb2LDrXW8"
      },
      "source": [
        ""
      ]
    },
    {
      "cell_type": "code",
      "metadata": {
        "id": "raB9xfMHrjYz"
      },
      "source": [
        "#BUILDING THE LSTM\n",
        "from tensorflow.keras import Sequential\n",
        "from tensorflow.keras.layers import Dense, LSTM, Dropout \n",
        "\n",
        "model = Sequential()\n",
        "model.add(LSTM(units=60, activation= \"tanh\", return_sequences= True, input_shape = (X_train.shape[1] , 5))) #THE 2 INPUT PARAMETERS, how many units/layers you want in LSTM network\n",
        "model.add(Dropout(0.2)) \n",
        "\n",
        "model.add(LSTM(units=70, activation= \"tanh\", return_sequences= True, input_shape = (X_train.shape[1] , 5))) #THE 2 INPUT PARAMETERS, how many units/layers you want in LSTM network\n",
        "model.add(Dropout(0.2)) \n",
        "\n",
        "model.add(LSTM(units=80, activation= \"tanh\", return_sequences= True, input_shape = (X_train.shape[1] , 5))) \n",
        "model.add(Dropout(0.2)) \n",
        "\n",
        "model.add(LSTM(units=100, activation= \"tanh\"))\n",
        "model.add(Dropout(0.3)) \n",
        "model.add(Dense(units = 1))"
      ],
      "execution_count": null,
      "outputs": []
    },
    {
      "cell_type": "code",
      "metadata": {
        "colab": {
          "base_uri": "https://localhost:8080/"
        },
        "id": "oSbnGHPUsiPJ",
        "outputId": "bc77b3a6-5e44-4386-88c7-992ff8d51d39"
      },
      "source": [
        "model.summary()"
      ],
      "execution_count": null,
      "outputs": [
        {
          "output_type": "stream",
          "name": "stdout",
          "text": [
            "Model: \"sequential_85\"\n",
            "_________________________________________________________________\n",
            " Layer (type)                Output Shape              Param #   \n",
            "=================================================================\n",
            " lstm_233 (LSTM)             (None, 30, 60)            15840     \n",
            "                                                                 \n",
            " dropout_283 (Dropout)       (None, 30, 60)            0         \n",
            "                                                                 \n",
            " lstm_234 (LSTM)             (None, 30, 70)            36680     \n",
            "                                                                 \n",
            " dropout_284 (Dropout)       (None, 30, 70)            0         \n",
            "                                                                 \n",
            " lstm_235 (LSTM)             (None, 30, 80)            48320     \n",
            "                                                                 \n",
            " dropout_285 (Dropout)       (None, 30, 80)            0         \n",
            "                                                                 \n",
            " lstm_236 (LSTM)             (None, 100)               72400     \n",
            "                                                                 \n",
            " dropout_286 (Dropout)       (None, 100)               0         \n",
            "                                                                 \n",
            " dense_85 (Dense)            (None, 1)                 101       \n",
            "                                                                 \n",
            "=================================================================\n",
            "Total params: 173,341\n",
            "Trainable params: 173,341\n",
            "Non-trainable params: 0\n",
            "_________________________________________________________________\n"
          ]
        }
      ]
    },
    {
      "cell_type": "code",
      "metadata": {
        "id": "Wp3AqLTMJz25"
      },
      "source": [
        "model.compile(optimizer= \"adam\", loss = \"mean_squared_error\") "
      ],
      "execution_count": null,
      "outputs": []
    },
    {
      "cell_type": "code",
      "metadata": {
        "colab": {
          "base_uri": "https://localhost:8080/"
        },
        "id": "vBJGxFj4QsjQ",
        "outputId": "f5cf633a-247c-47bb-d733-e68bc2eb92c5"
      },
      "source": [
        "history = model.fit(X_train, Y_train, epochs=10, batch_size = 32)\n"
      ],
      "execution_count": null,
      "outputs": [
        {
          "output_type": "stream",
          "name": "stdout",
          "text": [
            "Epoch 1/10\n",
            "58/58 [==============================] - 6s 12ms/step - loss: 0.0102\n",
            "Epoch 2/10\n",
            "58/58 [==============================] - 1s 12ms/step - loss: 0.0020\n",
            "Epoch 3/10\n",
            "58/58 [==============================] - 1s 12ms/step - loss: 0.0021\n",
            "Epoch 4/10\n",
            "58/58 [==============================] - 1s 12ms/step - loss: 0.0018\n",
            "Epoch 5/10\n",
            "58/58 [==============================] - 1s 12ms/step - loss: 0.0017\n",
            "Epoch 6/10\n",
            "58/58 [==============================] - 1s 12ms/step - loss: 0.0017\n",
            "Epoch 7/10\n",
            "58/58 [==============================] - 1s 12ms/step - loss: 0.0014\n",
            "Epoch 8/10\n",
            "58/58 [==============================] - 1s 12ms/step - loss: 0.0019\n",
            "Epoch 9/10\n",
            "58/58 [==============================] - 1s 12ms/step - loss: 0.0019\n",
            "Epoch 10/10\n",
            "58/58 [==============================] - 1s 12ms/step - loss: 0.0014\n"
          ]
        }
      ]
    },
    {
      "cell_type": "code",
      "source": [
        "plt.figure(figsize=(14,5))\n",
        "plt.plot(history.history['loss'], color = 'red', label = 'MSE')\n",
        "\n",
        "plt.title('MSE loss')\n",
        "\n",
        "plt.legend()\n",
        "plt.show()"
      ],
      "metadata": {
        "colab": {
          "base_uri": "https://localhost:8080/",
          "height": 336
        },
        "id": "QiRJTIpiYb0a",
        "outputId": "f559018a-e8fd-4c62-af0d-463f62fbb16a"
      },
      "execution_count": null,
      "outputs": [
        {
          "output_type": "display_data",
          "data": {
            "text/plain": [
              "<Figure size 1008x360 with 1 Axes>"
            ],
            "image/png": "[encoded data removed]"
          },
          "metadata": {
            "needs_background": "light"
          }
        }
      ]
    },
    {
      "cell_type": "code",
      "metadata": {
        "id": "vvG6XzNPcVNh"
      },
      "source": [
        "past_30_days = data_train.tail(30)\n",
        "df= past_30_days.append (data_test, ignore_index= True)\n",
        "df = df.drop (['Date', 'Adj Close'], axis =1)"
      ],
      "execution_count": null,
      "outputs": []
    },
    {
      "cell_type": "code",
      "metadata": {
        "id": "J64dldZndQem"
      },
      "source": [
        "inputs = scaler.transform(df)\n"
      ],
      "execution_count": null,
      "outputs": []
    },
    {
      "cell_type": "code",
      "metadata": {
        "id": "ntEmFFHjk13U"
      },
      "source": [
        "X_test = []\n",
        "y_test = []\n",
        "\n",
        "for i in range (30, inputs.shape[0]):\n",
        "  X_test.append (inputs[i-30:i])\n",
        "  y_test.append (inputs[i,0]) \n",
        "X_test, y_test = np.array (X_test), np.array(y_test)\n"
      ],
      "execution_count": null,
      "outputs": []
    },
    {
      "cell_type": "code",
      "metadata": {
        "id": "6Rmy_FLWli88"
      },
      "source": [
        "y_pred= model.predict (X_test)"
      ],
      "execution_count": null,
      "outputs": []
    },
    {
      "cell_type": "code",
      "source": [
        "error = y_pred - y_test\n",
        "mse = np.square(error).mean()\n",
        "mse"
      ],
      "metadata": {
        "colab": {
          "base_uri": "https://localhost:8080/"
        },
        "id": "FBAdGIv04inj",
        "outputId": "b5aab6c9-b694-4fa0-a50f-813c322b8a7e"
      },
      "execution_count": null,
      "outputs": [
        {
          "output_type": "execute_result",
          "data": {
            "text/plain": [
              "0.01820755385997482"
            ]
          },
          "metadata": {},
          "execution_count": 977
        }
      ]
    },
    {
      "cell_type": "code",
      "metadata": {
        "colab": {
          "base_uri": "https://localhost:8080/"
        },
        "id": "cb4lCiW9l4vC",
        "outputId": "153d9257-977e-4787-9908-5bdb2c94573e"
      },
      "source": [
        "scaler.scale_"
      ],
      "execution_count": null,
      "outputs": [
        {
          "output_type": "execute_result",
          "data": {
            "text/plain": [
              "array([5.21639042e-04, 5.10787860e-04, 5.21905697e-04, 5.15812629e-04,\n",
              "       8.95543293e-08])"
            ]
          },
          "metadata": {},
          "execution_count": 979
        }
      ]
    },
    {
      "cell_type": "code",
      "metadata": {
        "colab": {
          "base_uri": "https://localhost:8080/"
        },
        "id": "40BhBT3lmFAd",
        "outputId": "f67e1cce-0060-427f-819c-ea3892fe5b49"
      },
      "source": [
        "scale = 1/5.21639042e-04\n",
        "scale"
      ],
      "execution_count": null,
      "outputs": [
        {
          "output_type": "execute_result",
          "data": {
            "text/plain": [
              "1917.0344232017817"
            ]
          },
          "metadata": {},
          "execution_count": 980
        }
      ]
    },
    {
      "cell_type": "code",
      "metadata": {
        "id": "-fLorhpLumwq"
      },
      "source": [
        "y_pred = y_pred*scale\n",
        "y_test = y_test*scale"
      ],
      "execution_count": null,
      "outputs": []
    },
    {
      "cell_type": "markdown",
      "metadata": {
        "id": "j-AYoh6Hu0HV"
      },
      "source": [
        "Visualization"
      ]
    },
    {
      "cell_type": "code",
      "metadata": {
        "colab": {
          "base_uri": "https://localhost:8080/",
          "height": 350
        },
        "id": "tAWHEVYiu402",
        "outputId": "77edab83-5325-483e-dfbc-f87ae82e44e2"
      },
      "source": [
        "plt.figure(figsize=(14,5))\n",
        "plt.plot(y_test, color = 'red', label = 'Real Google Stock Price')\n",
        "plt.plot(y_pred, color = 'blue', label = 'Predicted Google Stock Price')\n",
        "plt.title('Google Stock Price Prediction')\n",
        "plt.xlabel('Time')\n",
        "plt.ylabel('Google Stock Price')\n",
        "plt.legend()\n",
        "plt.show()"
      ],
      "execution_count": null,
      "outputs": [
        {
          "output_type": "display_data",
          "data": {
            "text/plain": [
              "<Figure size 1008x360 with 1 Axes>"
            ],
            "image/png": "[encoded data removed]"
          },
          "metadata": {
            "needs_background": "light"
          }
        }
      ]
    },
    {
      "cell_type": "markdown",
      "metadata": {
        "id": "EWc2qxiE6Nqv"
      },
      "source": [
        "\n",
        "\n",
        "```\n",
        "# Second lstm model\n",
        "```\n",
        "\n"
      ]
    },
    {
      "cell_type": "code",
      "metadata": {
        "id": "qOKt8ewc6Nqz"
      },
      "source": [
        "#BUILDING THE LSTM\n",
        "from tensorflow.keras import Sequential\n",
        "from tensorflow.keras.layers import Dense, LSTM, Dropout \n",
        "\n",
        "model = Sequential()\n",
        "model.add(LSTM(units=70, activation= \"tanh\", return_sequences= True, input_shape = (X_train.shape[1] , 5))) #THE 2 INPUT PARAMETERS, how many units/layers you want in LSTM network\n",
        "model.add(Dropout(0.2)) \n",
        "\n",
        "model.add(LSTM(units=80, activation= \"tanh\", return_sequences= True, input_shape = (X_train.shape[1] , 5))) \n",
        "model.add(Dropout(0.2)) \n",
        "\n",
        "model.add(LSTM(units=90, activation= \"tanh\"))\n",
        "model.add(Dropout(0.2)) \n",
        "model.add(Dense(units = 1))"
      ],
      "execution_count": null,
      "outputs": []
    },
    {
      "cell_type": "code",
      "metadata": {
        "colab": {
          "base_uri": "https://localhost:8080/"
        },
        "outputId": "3dfd91f6-1a27-4f5d-9d67-7787790907cc",
        "id": "EZ8EoVzD6Nq0"
      },
      "source": [
        "model.summary()"
      ],
      "execution_count": null,
      "outputs": [
        {
          "output_type": "stream",
          "name": "stdout",
          "text": [
            "Model: \"sequential_19\"\n",
            "_________________________________________________________________\n",
            " Layer (type)                Output Shape              Param #   \n",
            "=================================================================\n",
            " lstm_23 (LSTM)              (None, 30, 70)            21280     \n",
            "                                                                 \n",
            " dropout_49 (Dropout)        (None, 30, 70)            0         \n",
            "                                                                 \n",
            " lstm_24 (LSTM)              (None, 30, 80)            48320     \n",
            "                                                                 \n",
            " dropout_50 (Dropout)        (None, 30, 80)            0         \n",
            "                                                                 \n",
            " lstm_25 (LSTM)              (None, 90)                61560     \n",
            "                                                                 \n",
            " dropout_51 (Dropout)        (None, 90)                0         \n",
            "                                                                 \n",
            " dense_19 (Dense)            (None, 1)                 91        \n",
            "                                                                 \n",
            "=================================================================\n",
            "Total params: 131,251\n",
            "Trainable params: 131,251\n",
            "Non-trainable params: 0\n",
            "_________________________________________________________________\n"
          ]
        }
      ]
    },
    {
      "cell_type": "code",
      "metadata": {
        "id": "3WK1iO6y6Nq0"
      },
      "source": [
        "model.compile(optimizer= \"adam\", loss = \"mean_squared_error\") "
      ],
      "execution_count": null,
      "outputs": []
    },
    {
      "cell_type": "code",
      "metadata": {
        "colab": {
          "base_uri": "https://localhost:8080/"
        },
        "outputId": "fac0434f-03af-4db4-f58b-62b31da37aec",
        "id": "CuJrlDId6Nq0"
      },
      "source": [
        "history = model.fit(X_train, Y_train, epochs=10, batch_size = 32)\n"
      ],
      "execution_count": null,
      "outputs": [
        {
          "output_type": "stream",
          "name": "stdout",
          "text": [
            "Epoch 1/10\n",
            "58/58 [==============================] - 4s 10ms/step - loss: 0.0072\n",
            "Epoch 2/10\n",
            "58/58 [==============================] - 1s 9ms/step - loss: 0.0017\n",
            "Epoch 3/10\n",
            "58/58 [==============================] - 1s 10ms/step - loss: 0.0013\n",
            "Epoch 4/10\n",
            "58/58 [==============================] - 1s 11ms/step - loss: 0.0016\n",
            "Epoch 5/10\n",
            "58/58 [==============================] - 1s 10ms/step - loss: 0.0011\n",
            "Epoch 6/10\n",
            "58/58 [==============================] - 1s 9ms/step - loss: 0.0012\n",
            "Epoch 7/10\n",
            "58/58 [==============================] - 1s 9ms/step - loss: 9.9586e-04\n",
            "Epoch 8/10\n",
            "58/58 [==============================] - 1s 9ms/step - loss: 0.0010\n",
            "Epoch 9/10\n",
            "58/58 [==============================] - 1s 9ms/step - loss: 0.0015\n",
            "Epoch 10/10\n",
            "58/58 [==============================] - 1s 9ms/step - loss: 0.0010\n"
          ]
        }
      ]
    },
    {
      "cell_type": "code",
      "source": [
        "plt.figure(figsize=(14,5))\n",
        "plt.plot(history.history['loss'], color = 'red', label = 'MSE')\n",
        "\n",
        "plt.title('MSE loss')\n",
        "\n",
        "plt.legend()\n",
        "plt.show()"
      ],
      "metadata": {
        "colab": {
          "base_uri": "https://localhost:8080/",
          "height": 336
        },
        "outputId": "208d1b90-963d-4d7b-d7a8-dd8555a48bc5",
        "id": "xDfGli6qdKal"
      },
      "execution_count": null,
      "outputs": [
        {
          "output_type": "display_data",
          "data": {
            "text/plain": [
              "<Figure size 1008x360 with 1 Axes>"
            ],
            "image/png": "[encoded data removed]"
          },
          "metadata": {
            "needs_background": "light"
          }
        }
      ]
    },
    {
      "cell_type": "code",
      "metadata": {
        "id": "ZiI-Vpyn6Nq0"
      },
      "source": [
        "past_30_days = data_train.tail(30)\n",
        "df= past_30_days.append (data_test, ignore_index= True)\n",
        "df = df.drop (['Date', 'Adj Close'], axis =1)"
      ],
      "execution_count": null,
      "outputs": []
    },
    {
      "cell_type": "code",
      "metadata": {
        "id": "AJWNXGv46Nq0"
      },
      "source": [
        "inputs = scaler.transform(df)\n"
      ],
      "execution_count": null,
      "outputs": []
    },
    {
      "cell_type": "code",
      "metadata": {
        "id": "tF-aAv2A6Nq0"
      },
      "source": [
        "X_test = []\n",
        "y_test = []\n",
        "\n",
        "for i in range (30, inputs.shape[0]):\n",
        "  X_test.append (inputs[i-30:i])\n",
        "  y_test.append (inputs[i,0]) \n",
        "X_test, y_test = np.array (X_test), np.array(y_test)\n"
      ],
      "execution_count": null,
      "outputs": []
    },
    {
      "cell_type": "code",
      "metadata": {
        "id": "SONE9t8G6Nq0"
      },
      "source": [
        "y_pred= model.predict (X_test)"
      ],
      "execution_count": null,
      "outputs": []
    },
    {
      "cell_type": "code",
      "source": [
        "error = y_pred - y_test\n",
        "mse = np.square(error).mean()\n",
        "mse"
      ],
      "metadata": {
        "colab": {
          "base_uri": "https://localhost:8080/"
        },
        "outputId": "56299de7-63b4-4deb-c0b5-3cd3afd20f59",
        "id": "aGo9iRCj6Nq1"
      },
      "execution_count": null,
      "outputs": [
        {
          "output_type": "execute_result",
          "data": {
            "text/plain": [
              "0.01729280954608531"
            ]
          },
          "metadata": {},
          "execution_count": 282
        }
      ]
    },
    {
      "cell_type": "code",
      "metadata": {
        "colab": {
          "base_uri": "https://localhost:8080/"
        },
        "outputId": "b97aa230-b91f-4b79-8cd2-8750f43a2860",
        "id": "QYFZt93p6Nq1"
      },
      "source": [
        "scaler.scale_"
      ],
      "execution_count": null,
      "outputs": [
        {
          "output_type": "execute_result",
          "data": {
            "text/plain": [
              "array([5.21639042e-04, 5.10787860e-04, 5.21905697e-04, 5.15812629e-04,\n",
              "       8.95543293e-08])"
            ]
          },
          "metadata": {},
          "execution_count": 283
        }
      ]
    },
    {
      "cell_type": "code",
      "metadata": {
        "colab": {
          "base_uri": "https://localhost:8080/"
        },
        "outputId": "ef7719e0-7111-4e01-c0b6-db7846e8c1d8",
        "id": "27F2OXIM6Nq1"
      },
      "source": [
        "scale = 1/5.21639042e-04\n",
        "scale"
      ],
      "execution_count": null,
      "outputs": [
        {
          "output_type": "execute_result",
          "data": {
            "text/plain": [
              "1917.0344232017817"
            ]
          },
          "metadata": {},
          "execution_count": 284
        }
      ]
    },
    {
      "cell_type": "code",
      "metadata": {
        "id": "Gy6071px6Nq1"
      },
      "source": [
        "y_pred = y_pred*scale\n",
        "y_test = y_test*scale"
      ],
      "execution_count": null,
      "outputs": []
    },
    {
      "cell_type": "markdown",
      "metadata": {
        "id": "65DZA2306Nq1"
      },
      "source": [
        "Visualization"
      ]
    },
    {
      "cell_type": "code",
      "metadata": {
        "colab": {
          "base_uri": "https://localhost:8080/",
          "height": 350
        },
        "outputId": "0997e6b5-d92d-46d2-c572-1615a27a4f15",
        "id": "NHc8mDsG6Nq1"
      },
      "source": [
        "plt.figure(figsize=(14,5))\n",
        "plt.plot(y_test, color = 'red', label = 'Real Google Stock Price')\n",
        "plt.plot(y_pred, color = 'blue', label = 'Predicted Google Stock Price')\n",
        "plt.title('Google Stock Price Prediction')\n",
        "plt.xlabel('Time')\n",
        "plt.ylabel('Google Stock Price')\n",
        "plt.legend()\n",
        "plt.show()"
      ],
      "execution_count": null,
      "outputs": [
        {
          "output_type": "display_data",
          "data": {
            "text/plain": [
              "<Figure size 1008x360 with 1 Axes>"
            ],
            "image/png": "[encoded data removed]"
          },
          "metadata": {
            "needs_background": "light"
          }
        }
      ]
    },
    {
      "cell_type": "markdown",
      "metadata": {
        "id": "HvJjaVmw6uSb"
      },
      "source": [
        "\n",
        "\n",
        "```\n",
        "# third lstm model\n",
        "```\n",
        "\n"
      ]
    },
    {
      "cell_type": "code",
      "metadata": {
        "id": "NZpxmUgt6uSh"
      },
      "source": [
        "#BUILDING THE LSTM\n",
        "from tensorflow.keras import Sequential\n",
        "from tensorflow.keras.layers import Dense, LSTM, Dropout \n",
        "\n",
        "model = Sequential()\n",
        "model.add(LSTM(units=70, activation= \"tanh\", return_sequences= True, input_shape = (X_train.shape[1] , 5))) #THE 2 INPUT PARAMETERS, how many units/layers you want in LSTM network\n",
        "model.add(Dropout(0.2)) \n",
        "\n",
        "model.add(LSTM(units=100, activation= \"tanh\"))\n",
        "model.add(Dropout(0.15)) \n",
        "model.add(Dense(units = 1))"
      ],
      "execution_count": null,
      "outputs": []
    },
    {
      "cell_type": "code",
      "metadata": {
        "colab": {
          "base_uri": "https://localhost:8080/"
        },
        "outputId": "b462bdb8-bf3a-484b-9116-a34680813357",
        "id": "cq1wtnsO6uSh"
      },
      "source": [
        "model.summary()"
      ],
      "execution_count": null,
      "outputs": [
        {
          "output_type": "stream",
          "name": "stdout",
          "text": [
            "Model: \"sequential_31\"\n",
            "_________________________________________________________________\n",
            " Layer (type)                Output Shape              Param #   \n",
            "=================================================================\n",
            " lstm_48 (LSTM)              (None, 30, 70)            21280     \n",
            "                                                                 \n",
            " dropout_74 (Dropout)        (None, 30, 70)            0         \n",
            "                                                                 \n",
            " lstm_49 (LSTM)              (None, 100)               68400     \n",
            "                                                                 \n",
            " dropout_75 (Dropout)        (None, 100)               0         \n",
            "                                                                 \n",
            " dense_31 (Dense)            (None, 1)                 101       \n",
            "                                                                 \n",
            "=================================================================\n",
            "Total params: 89,781\n",
            "Trainable params: 89,781\n",
            "Non-trainable params: 0\n",
            "_________________________________________________________________\n"
          ]
        }
      ]
    },
    {
      "cell_type": "code",
      "metadata": {
        "id": "5MMrKEwQ6uSh"
      },
      "source": [
        "model.compile(optimizer= \"adam\", loss = \"mean_squared_error\") "
      ],
      "execution_count": null,
      "outputs": []
    },
    {
      "cell_type": "code",
      "metadata": {
        "colab": {
          "base_uri": "https://localhost:8080/"
        },
        "outputId": "60c8c950-671a-45cb-e37d-4cc7ce4d355d",
        "id": "kjpKjOxB6uSh"
      },
      "source": [
        "history = model.fit(X_train, Y_train, epochs=10, batch_size = 32)\n"
      ],
      "execution_count": null,
      "outputs": [
        {
          "output_type": "stream",
          "name": "stdout",
          "text": [
            "Epoch 1/10\n",
            "58/58 [==============================] - 3s 7ms/step - loss: 0.0080\n",
            "Epoch 2/10\n",
            "58/58 [==============================] - 0s 7ms/step - loss: 0.0011\n",
            "Epoch 3/10\n",
            "58/58 [==============================] - 0s 7ms/step - loss: 9.0262e-04\n",
            "Epoch 4/10\n",
            "58/58 [==============================] - 0s 7ms/step - loss: 8.6747e-04\n",
            "Epoch 5/10\n",
            "58/58 [==============================] - 0s 7ms/step - loss: 7.9073e-04\n",
            "Epoch 6/10\n",
            "58/58 [==============================] - 0s 7ms/step - loss: 7.6980e-04\n",
            "Epoch 7/10\n",
            "58/58 [==============================] - 0s 7ms/step - loss: 7.5943e-04\n",
            "Epoch 8/10\n",
            "58/58 [==============================] - 0s 7ms/step - loss: 8.2607e-04\n",
            "Epoch 9/10\n",
            "58/58 [==============================] - 0s 8ms/step - loss: 8.2038e-04\n",
            "Epoch 10/10\n",
            "58/58 [==============================] - 0s 7ms/step - loss: 7.1219e-04\n"
          ]
        }
      ]
    },
    {
      "cell_type": "code",
      "source": [
        "plt.figure(figsize=(14,5))\n",
        "plt.plot(history.history['loss'], color = 'red', label = 'MSE')\n",
        "\n",
        "plt.title('MSE loss')\n",
        "\n",
        "plt.legend()\n",
        "plt.show()"
      ],
      "metadata": {
        "colab": {
          "base_uri": "https://localhost:8080/",
          "height": 336
        },
        "outputId": "4f68fa97-febb-4792-9e23-ac7446780f68",
        "id": "IaNqZ8pAeXfw"
      },
      "execution_count": null,
      "outputs": [
        {
          "output_type": "display_data",
          "data": {
            "text/plain": [
              "<Figure size 1008x360 with 1 Axes>"
            ],
            "image/png": "[encoded data removed]"
          },
          "metadata": {
            "needs_background": "light"
          }
        }
      ]
    },
    {
      "cell_type": "code",
      "metadata": {
        "id": "p3cwAO5l6uSh"
      },
      "source": [
        "past_30_days = data_train.tail(30)\n",
        "df= past_30_days.append (data_test, ignore_index= True)\n",
        "df = df.drop (['Date', 'Adj Close'], axis =1)"
      ],
      "execution_count": null,
      "outputs": []
    },
    {
      "cell_type": "code",
      "metadata": {
        "id": "qpev_96Z6uSh"
      },
      "source": [
        "inputs = scaler.transform(df)\n"
      ],
      "execution_count": null,
      "outputs": []
    },
    {
      "cell_type": "code",
      "metadata": {
        "id": "lgZ4J0rb6uSh"
      },
      "source": [
        "X_test = []\n",
        "y_test = []\n",
        "\n",
        "for i in range (30, inputs.shape[0]):\n",
        "  X_test.append (inputs[i-30:i])\n",
        "  y_test.append (inputs[i,0]) \n",
        "X_test, y_test = np.array (X_test), np.array(y_test)\n"
      ],
      "execution_count": null,
      "outputs": []
    },
    {
      "cell_type": "code",
      "metadata": {
        "id": "Z5o843WO6uSh"
      },
      "source": [
        "y_pred= model.predict (X_test)"
      ],
      "execution_count": null,
      "outputs": []
    },
    {
      "cell_type": "code",
      "source": [
        "error = y_pred - y_test\n",
        "mse = np.square(error).mean()\n",
        "mse"
      ],
      "metadata": {
        "colab": {
          "base_uri": "https://localhost:8080/"
        },
        "outputId": "138e4901-e00c-47d7-c024-36588e3b38c2",
        "id": "uCeqfEhT6uSh"
      },
      "execution_count": null,
      "outputs": [
        {
          "output_type": "execute_result",
          "data": {
            "text/plain": [
              "0.018145940005061728"
            ]
          },
          "metadata": {},
          "execution_count": 435
        }
      ]
    },
    {
      "cell_type": "code",
      "metadata": {
        "colab": {
          "base_uri": "https://localhost:8080/"
        },
        "outputId": "8058c244-4e35-4b54-aa7e-c632f30a206e",
        "id": "YwPBJjzI6uSi"
      },
      "source": [
        "scaler.scale_"
      ],
      "execution_count": null,
      "outputs": [
        {
          "output_type": "execute_result",
          "data": {
            "text/plain": [
              "array([5.21639042e-04, 5.10787860e-04, 5.21905697e-04, 5.15812629e-04,\n",
              "       8.95543293e-08])"
            ]
          },
          "metadata": {},
          "execution_count": 436
        }
      ]
    },
    {
      "cell_type": "code",
      "metadata": {
        "colab": {
          "base_uri": "https://localhost:8080/"
        },
        "outputId": "8d08532a-aebb-4cd7-a07a-7a42654d4575",
        "id": "2EaHsj8s6uSi"
      },
      "source": [
        "scale = 1/5.21639042e-04\n",
        "scale"
      ],
      "execution_count": null,
      "outputs": [
        {
          "output_type": "execute_result",
          "data": {
            "text/plain": [
              "1917.0344232017817"
            ]
          },
          "metadata": {},
          "execution_count": 437
        }
      ]
    },
    {
      "cell_type": "code",
      "metadata": {
        "id": "sD_rdPMs6uSi"
      },
      "source": [
        "y_pred = y_pred*scale\n",
        "y_test = y_test*scale"
      ],
      "execution_count": null,
      "outputs": []
    },
    {
      "cell_type": "markdown",
      "metadata": {
        "id": "U4wZCpMR6uSi"
      },
      "source": [
        "Visualization"
      ]
    },
    {
      "cell_type": "code",
      "metadata": {
        "colab": {
          "base_uri": "https://localhost:8080/",
          "height": 350
        },
        "outputId": "ea21a960-55ba-4cae-c53e-24eeb6baa812",
        "id": "fLrPRe6d6uSi"
      },
      "source": [
        "plt.figure(figsize=(14,5))\n",
        "plt.plot(y_test, color = 'red', label = 'Real Google Stock Price')\n",
        "plt.plot(y_pred, color = 'blue', label = 'Predicted Google Stock Price')\n",
        "plt.title('Google Stock Price Prediction')\n",
        "plt.xlabel('Time')\n",
        "plt.ylabel('Google Stock Price')\n",
        "plt.legend()\n",
        "plt.show()"
      ],
      "execution_count": null,
      "outputs": [
        {
          "output_type": "display_data",
          "data": {
            "text/plain": [
              "<Figure size 1008x360 with 1 Axes>"
            ],
            "image/png": "[encoded data removed]"
          },
          "metadata": {
            "needs_background": "light"
          }
        }
      ]
    },
    {
      "cell_type": "markdown",
      "source": [
        "GRU"
      ],
      "metadata": {
        "id": "F8NXknBxA4qP"
      }
    },
    {
      "cell_type": "code",
      "metadata": {
        "id": "9f1uQrScBA7J"
      },
      "source": [
        "#BUILDING THE GRU\n",
        "from tensorflow.keras import Sequential\n",
        "from tensorflow.keras.layers import Dense, GRU, Dropout \n",
        "\n",
        "model = Sequential()\n",
        "model.add(GRU(units=60, activation= \"tanh\", return_sequences= True, input_shape = (X_train.shape[1] , 5))) #THE 2 INPUT PARAMETERS, how many units/layers you want in LSTM network\n",
        "model.add(Dropout(0.2)) \n",
        "\n",
        "model.add(GRU(units=70, activation= \"tanh\", return_sequences= True, input_shape = (X_train.shape[1] , 5))) #THE 2 INPUT PARAMETERS, how many units/layers you want in LSTM network\n",
        "model.add(Dropout(0.2)) \n",
        "\n",
        "model.add(GRU(units=80, activation= \"tanh\", return_sequences= True, input_shape = (X_train.shape[1] , 5))) \n",
        "model.add(Dropout(0.2)) \n",
        "\n",
        "model.add(GRU(units=100, activation= \"tanh\"))\n",
        "model.add(Dropout(0.2)) \n",
        "model.add(Dense(units = 1))"
      ],
      "execution_count": null,
      "outputs": []
    },
    {
      "cell_type": "code",
      "metadata": {
        "colab": {
          "base_uri": "https://localhost:8080/"
        },
        "outputId": "7aad25c6-3d3d-48a0-9fc0-1afb49d508cb",
        "id": "S8JocgQ2BA7J"
      },
      "source": [
        "model.summary()"
      ],
      "execution_count": null,
      "outputs": [
        {
          "output_type": "stream",
          "name": "stdout",
          "text": [
            "Model: \"sequential_5\"\n",
            "_________________________________________________________________\n",
            " Layer (type)                Output Shape              Param #   \n",
            "=================================================================\n",
            " gru_4 (GRU)                 (None, 30, 60)            12060     \n",
            "                                                                 \n",
            " dropout_12 (Dropout)        (None, 30, 60)            0         \n",
            "                                                                 \n",
            " gru_5 (GRU)                 (None, 30, 70)            27720     \n",
            "                                                                 \n",
            " dropout_13 (Dropout)        (None, 30, 70)            0         \n",
            "                                                                 \n",
            " gru_6 (GRU)                 (None, 30, 80)            36480     \n",
            "                                                                 \n",
            " dropout_14 (Dropout)        (None, 30, 80)            0         \n",
            "                                                                 \n",
            " gru_7 (GRU)                 (None, 100)               54600     \n",
            "                                                                 \n",
            " dropout_15 (Dropout)        (None, 100)               0         \n",
            "                                                                 \n",
            " dense_5 (Dense)             (None, 1)                 101       \n",
            "                                                                 \n",
            "=================================================================\n",
            "Total params: 130,961\n",
            "Trainable params: 130,961\n",
            "Non-trainable params: 0\n",
            "_________________________________________________________________\n"
          ]
        }
      ]
    },
    {
      "cell_type": "code",
      "metadata": {
        "id": "dorVs0rRBA7J"
      },
      "source": [
        "model.compile(optimizer= \"adam\", loss = \"mean_squared_error\") "
      ],
      "execution_count": null,
      "outputs": []
    },
    {
      "cell_type": "code",
      "metadata": {
        "id": "YHVuFm7eBA7K"
      },
      "source": [
        "X_test = []\n",
        "y_test = []\n",
        "\n",
        "for i in range (30, inputs.shape[0]):\n",
        "  X_test.append (inputs[i-30:i])\n",
        "  y_test.append (inputs[i,0]) \n",
        "X_test, y_test = np.array (X_test), np.array(y_test)\n"
      ],
      "execution_count": null,
      "outputs": []
    },
    {
      "cell_type": "code",
      "metadata": {
        "colab": {
          "base_uri": "https://localhost:8080/"
        },
        "outputId": "a9beefb8-deed-4b61-a8f9-f529427bc30e",
        "id": "uN3horEFBA7K"
      },
      "source": [
        "history = model.fit(X_train, Y_train, epochs=10, batch_size = 32,validation_data=(X_test, y_test))\n"
      ],
      "execution_count": null,
      "outputs": [
        {
          "output_type": "stream",
          "name": "stdout",
          "text": [
            "Epoch 1/10\n",
            "58/58 [==============================] - 7s 30ms/step - loss: 0.0077 - val_loss: 0.0083\n",
            "Epoch 2/10\n",
            "58/58 [==============================] - 1s 11ms/step - loss: 0.0014 - val_loss: 0.0029\n",
            "Epoch 3/10\n",
            "58/58 [==============================] - 1s 11ms/step - loss: 0.0015 - val_loss: 0.0311\n",
            "Epoch 4/10\n",
            "58/58 [==============================] - 1s 11ms/step - loss: 0.0016 - val_loss: 0.0017\n",
            "Epoch 5/10\n",
            "58/58 [==============================] - 1s 11ms/step - loss: 0.0012 - val_loss: 0.0068\n",
            "Epoch 6/10\n",
            "58/58 [==============================] - 1s 11ms/step - loss: 0.0012 - val_loss: 0.0034\n",
            "Epoch 7/10\n",
            "58/58 [==============================] - 1s 11ms/step - loss: 0.0010 - val_loss: 7.1694e-04\n",
            "Epoch 8/10\n",
            "58/58 [==============================] - 1s 11ms/step - loss: 0.0011 - val_loss: 6.9227e-04\n",
            "Epoch 9/10\n",
            "58/58 [==============================] - 1s 12ms/step - loss: 9.7986e-04 - val_loss: 0.0100\n",
            "Epoch 10/10\n",
            "58/58 [==============================] - 1s 11ms/step - loss: 0.0010 - val_loss: 6.3886e-04\n"
          ]
        }
      ]
    },
    {
      "cell_type": "code",
      "source": [
        "plt.figure(figsize=(14,5))\n",
        "plt.plot(history.history['loss'], color = 'red', label = 'loss')\n",
        "plt.title('MSE loss')\n",
        "\n",
        "plt.legend()\n",
        "plt.show()"
      ],
      "metadata": {
        "colab": {
          "base_uri": "https://localhost:8080/",
          "height": 336
        },
        "outputId": "d8b08ac8-6ec1-4234-e18b-f7817984aa4a",
        "id": "9yGzNJk-ffky"
      },
      "execution_count": null,
      "outputs": [
        {
          "output_type": "display_data",
          "data": {
            "text/plain": [
              "<Figure size 1008x360 with 1 Axes>"
            ],
            "image/png": "[encoded data removed]"
          },
          "metadata": {
            "needs_background": "light"
          }
        }
      ]
    },
    {
      "cell_type": "code",
      "metadata": {
        "id": "C_m7IcFqBA7K"
      },
      "source": [
        "past_30_days = data_train.tail(30)\n",
        "df= past_30_days.append (data_test, ignore_index= True)\n",
        "df = df.drop (['Date', 'Adj Close'], axis =1)"
      ],
      "execution_count": null,
      "outputs": []
    },
    {
      "cell_type": "code",
      "metadata": {
        "id": "oJSqFyR6BA7K"
      },
      "source": [
        "inputs = scaler.transform(df)\n"
      ],
      "execution_count": null,
      "outputs": []
    },
    {
      "cell_type": "code",
      "metadata": {
        "id": "dMUdJfp-BA7K"
      },
      "source": [
        "y_pred= model.predict (X_test)"
      ],
      "execution_count": null,
      "outputs": []
    },
    {
      "cell_type": "code",
      "source": [
        "error = y_pred - y_test\n",
        "mse = np.square(error).mean()\n",
        "mse"
      ],
      "metadata": {
        "colab": {
          "base_uri": "https://localhost:8080/"
        },
        "outputId": "8c2a7242-196d-47ca-fd25-aeded320f22d",
        "id": "uTRgznD-BA7K"
      },
      "execution_count": null,
      "outputs": [
        {
          "output_type": "execute_result",
          "data": {
            "text/plain": [
              "0.018385780551238635"
            ]
          },
          "metadata": {},
          "execution_count": 82
        }
      ]
    },
    {
      "cell_type": "code",
      "metadata": {
        "colab": {
          "base_uri": "https://localhost:8080/"
        },
        "outputId": "dc83e863-41a1-4a61-b96e-32bc79a67440",
        "id": "aR-35QsVBA7K"
      },
      "source": [
        "scaler.scale_"
      ],
      "execution_count": null,
      "outputs": [
        {
          "output_type": "execute_result",
          "data": {
            "text/plain": [
              "array([5.21639042e-04, 5.10787860e-04, 5.21905697e-04, 5.15812629e-04,\n",
              "       8.95543293e-08])"
            ]
          },
          "metadata": {},
          "execution_count": 83
        }
      ]
    },
    {
      "cell_type": "code",
      "metadata": {
        "colab": {
          "base_uri": "https://localhost:8080/"
        },
        "outputId": "02bc3441-082b-4cb6-9602-e4696fc1685d",
        "id": "BzOPRVwSBA7K"
      },
      "source": [
        "scale = 1/5.21639042e-04\n",
        "scale"
      ],
      "execution_count": null,
      "outputs": [
        {
          "output_type": "execute_result",
          "data": {
            "text/plain": [
              "1917.0344232017817"
            ]
          },
          "metadata": {},
          "execution_count": 84
        }
      ]
    },
    {
      "cell_type": "code",
      "metadata": {
        "id": "-JOSUwQGBA7K"
      },
      "source": [
        "y_pred = y_pred*scale\n",
        "y_test = y_test*scale"
      ],
      "execution_count": null,
      "outputs": []
    },
    {
      "cell_type": "markdown",
      "metadata": {
        "id": "YLsCtzdpBA7K"
      },
      "source": [
        "Visualization"
      ]
    },
    {
      "cell_type": "code",
      "metadata": {
        "colab": {
          "base_uri": "https://localhost:8080/",
          "height": 350
        },
        "outputId": "da5a1677-9d31-497e-ac86-c96552f938d6",
        "id": "E6ThTV2wBA7K"
      },
      "source": [
        "plt.figure(figsize=(14,5))\n",
        "plt.plot(y_test, color = 'red', label = 'Real Google Stock Price')\n",
        "plt.plot(y_pred, color = 'blue', label = 'Predicted Google Stock Price')\n",
        "plt.title('Google Stock Price Prediction')\n",
        "plt.xlabel('Time')\n",
        "plt.ylabel('Google Stock Price')\n",
        "plt.legend()\n",
        "plt.show()"
      ],
      "execution_count": null,
      "outputs": [
        {
          "output_type": "display_data",
          "data": {
            "text/plain": [
              "<Figure size 1008x360 with 1 Axes>"
            ],
            "image/png": "[encoded data removed]"
          },
          "metadata": {
            "needs_background": "light"
          }
        }
      ]
    },
    {
      "cell_type": "markdown",
      "source": [
        "SECOND GRU"
      ],
      "metadata": {
        "id": "GZxRPm0mGmxV"
      }
    },
    {
      "cell_type": "code",
      "metadata": {
        "id": "biiELQl1Gozy"
      },
      "source": [
        "#BUILDING THE LSTM\n",
        "from tensorflow.keras import Sequential\n",
        "from tensorflow.keras.layers import Dense, GRU, Dropout \n",
        "\n",
        "model = Sequential()\n",
        "model.add(GRU(units=70, activation= \"tanh\", return_sequences= True, input_shape = (X_train.shape[1] , 5))) #THE 2 INPUT PARAMETERS, how many units/layers you want in LSTM network\n",
        "model.add(Dropout(0.2)) \n",
        "\n",
        "model.add(GRU(units=80, activation= \"tanh\", return_sequences= True, input_shape = (X_train.shape[1] , 5))) \n",
        "model.add(Dropout(0.2)) \n",
        "\n",
        "model.add(GRU(units=100, activation= \"tanh\"))\n",
        "model.add(Dropout(0.2)) \n",
        "model.add(Dense(units = 1))"
      ],
      "execution_count": null,
      "outputs": []
    },
    {
      "cell_type": "code",
      "metadata": {
        "colab": {
          "base_uri": "https://localhost:8080/"
        },
        "outputId": "903516ac-5ba4-4fb1-b081-7c6b89d11b8c",
        "id": "prJjzVW9Gozy"
      },
      "source": [
        "model.summary()"
      ],
      "execution_count": null,
      "outputs": [
        {
          "output_type": "stream",
          "name": "stdout",
          "text": [
            "Model: \"sequential_6\"\n",
            "_________________________________________________________________\n",
            " Layer (type)                Output Shape              Param #   \n",
            "=================================================================\n",
            " gru_8 (GRU)                 (None, 30, 70)            16170     \n",
            "                                                                 \n",
            " dropout_16 (Dropout)        (None, 30, 70)            0         \n",
            "                                                                 \n",
            " gru_9 (GRU)                 (None, 30, 80)            36480     \n",
            "                                                                 \n",
            " dropout_17 (Dropout)        (None, 30, 80)            0         \n",
            "                                                                 \n",
            " gru_10 (GRU)                (None, 90)                46440     \n",
            "                                                                 \n",
            " dropout_18 (Dropout)        (None, 90)                0         \n",
            "                                                                 \n",
            " dense_6 (Dense)             (None, 1)                 91        \n",
            "                                                                 \n",
            "=================================================================\n",
            "Total params: 99,181\n",
            "Trainable params: 99,181\n",
            "Non-trainable params: 0\n",
            "_________________________________________________________________\n"
          ]
        }
      ]
    },
    {
      "cell_type": "code",
      "metadata": {
        "id": "hSHBZnpOGozy"
      },
      "source": [
        "model.compile(optimizer= \"adam\", loss = \"mean_squared_error\") "
      ],
      "execution_count": null,
      "outputs": []
    },
    {
      "cell_type": "code",
      "metadata": {
        "colab": {
          "base_uri": "https://localhost:8080/"
        },
        "outputId": "aa4d2fb2-a48e-4eda-dfc4-28469af89de6",
        "id": "vndEgU9ZGozz"
      },
      "source": [
        "model.fit(X_train, Y_train, epochs=10, batch_size = 32)\n"
      ],
      "execution_count": null,
      "outputs": [
        {
          "output_type": "stream",
          "name": "stdout",
          "text": [
            "Epoch 1/10\n",
            "58/58 [==============================] - 5s 9ms/step - loss: 0.0073\n",
            "Epoch 2/10\n",
            "58/58 [==============================] - 1s 9ms/step - loss: 0.0015\n",
            "Epoch 3/10\n",
            "58/58 [==============================] - 0s 8ms/step - loss: 0.0012\n",
            "Epoch 4/10\n",
            "58/58 [==============================] - 1s 9ms/step - loss: 0.0011\n",
            "Epoch 5/10\n",
            "58/58 [==============================] - 1s 9ms/step - loss: 9.2178e-04\n",
            "Epoch 6/10\n",
            "58/58 [==============================] - 1s 9ms/step - loss: 9.5524e-04\n",
            "Epoch 7/10\n",
            "58/58 [==============================] - 0s 8ms/step - loss: 8.8737e-04\n",
            "Epoch 8/10\n",
            "58/58 [==============================] - 1s 9ms/step - loss: 9.5151e-04\n",
            "Epoch 9/10\n",
            "58/58 [==============================] - 0s 8ms/step - loss: 7.6355e-04\n",
            "Epoch 10/10\n",
            "58/58 [==============================] - 1s 9ms/step - loss: 7.8281e-04\n"
          ]
        },
        {
          "output_type": "execute_result",
          "data": {
            "text/plain": [
              "<keras.callbacks.History at 0x7f34bd7fb610>"
            ]
          },
          "metadata": {},
          "execution_count": 103
        }
      ]
    },
    {
      "cell_type": "code",
      "source": [
        "plt.figure(figsize=(14,5))\n",
        "plt.plot(history.history['loss'], color = 'red', label = 'loss')\n",
        "plt.title('MSE loss')\n",
        "\n",
        "plt.legend()\n",
        "plt.show()"
      ],
      "metadata": {
        "colab": {
          "base_uri": "https://localhost:8080/",
          "height": 336
        },
        "outputId": "6dd02464-02ed-46ef-c06d-1830ad6829ea",
        "id": "dLYtXcp-gR5n"
      },
      "execution_count": null,
      "outputs": [
        {
          "output_type": "display_data",
          "data": {
            "text/plain": [
              "<Figure size 1008x360 with 1 Axes>"
            ],
            "image/png": "[encoded data removed]"
          },
          "metadata": {
            "needs_background": "light"
          }
        }
      ]
    },
    {
      "cell_type": "code",
      "metadata": {
        "id": "YiTkXh-yGozz"
      },
      "source": [
        "past_30_days = data_train.tail(30)\n",
        "df= past_30_days.append (data_test, ignore_index= True)\n",
        "df = df.drop (['Date', 'Adj Close'], axis =1)"
      ],
      "execution_count": null,
      "outputs": []
    },
    {
      "cell_type": "code",
      "metadata": {
        "id": "meSu_YNnGozz"
      },
      "source": [
        "inputs = scaler.transform(df)\n"
      ],
      "execution_count": null,
      "outputs": []
    },
    {
      "cell_type": "code",
      "metadata": {
        "id": "geN0_P63Gozz"
      },
      "source": [
        "X_test = []\n",
        "y_test = []\n",
        "\n",
        "for i in range (30, inputs.shape[0]):\n",
        "  X_test.append (inputs[i-30:i])\n",
        "  y_test.append (inputs[i,0]) \n",
        "X_test, y_test = np.array (X_test), np.array(y_test)\n"
      ],
      "execution_count": null,
      "outputs": []
    },
    {
      "cell_type": "code",
      "metadata": {
        "id": "byBTaPTbGozz"
      },
      "source": [
        "y_pred= model.predict (X_test)"
      ],
      "execution_count": null,
      "outputs": []
    },
    {
      "cell_type": "code",
      "source": [
        "error = y_pred - y_test\n",
        "mse = np.square(error).mean()\n",
        "mse"
      ],
      "metadata": {
        "colab": {
          "base_uri": "https://localhost:8080/"
        },
        "outputId": "2b8cf509-b1fa-45d2-d121-d76232b126c8",
        "id": "HgBi-ZRRGozz"
      },
      "execution_count": null,
      "outputs": [
        {
          "output_type": "execute_result",
          "data": {
            "text/plain": [
              "0.018775458483968596"
            ]
          },
          "metadata": {},
          "execution_count": 109
        }
      ]
    },
    {
      "cell_type": "code",
      "metadata": {
        "colab": {
          "base_uri": "https://localhost:8080/"
        },
        "outputId": "cb88db9b-16f5-43a4-8a4a-9778de8af334",
        "id": "4m_CIGAsGozz"
      },
      "source": [
        "scaler.scale_"
      ],
      "execution_count": null,
      "outputs": [
        {
          "output_type": "execute_result",
          "data": {
            "text/plain": [
              "array([5.21639042e-04, 5.10787860e-04, 5.21905697e-04, 5.15812629e-04,\n",
              "       8.95543293e-08])"
            ]
          },
          "metadata": {},
          "execution_count": 110
        }
      ]
    },
    {
      "cell_type": "code",
      "metadata": {
        "colab": {
          "base_uri": "https://localhost:8080/"
        },
        "outputId": "195a44d5-6ed1-4622-964c-fb98759b32ef",
        "id": "SYqSEechGozz"
      },
      "source": [
        "scale = 1/5.21639042e-04\n",
        "scale"
      ],
      "execution_count": null,
      "outputs": [
        {
          "output_type": "execute_result",
          "data": {
            "text/plain": [
              "1917.0344232017817"
            ]
          },
          "metadata": {},
          "execution_count": 111
        }
      ]
    },
    {
      "cell_type": "code",
      "metadata": {
        "id": "Njdtrk5cGozz"
      },
      "source": [
        "y_pred = y_pred*scale\n",
        "y_test = y_test*scale"
      ],
      "execution_count": null,
      "outputs": []
    },
    {
      "cell_type": "markdown",
      "metadata": {
        "id": "-GfMN8QwGozz"
      },
      "source": [
        "Visualization"
      ]
    },
    {
      "cell_type": "code",
      "metadata": {
        "colab": {
          "base_uri": "https://localhost:8080/",
          "height": 350
        },
        "outputId": "947416cd-86ad-4841-adb0-3b1dced85f75",
        "id": "4p7KOMRRGozz"
      },
      "source": [
        "plt.figure(figsize=(14,5))\n",
        "plt.plot(y_test, color = 'red', label = 'Real Google Stock Price')\n",
        "plt.plot(y_pred, color = 'blue', label = 'Predicted Google Stock Price')\n",
        "plt.title('Google Stock Price Prediction')\n",
        "plt.xlabel('Time')\n",
        "plt.ylabel('Google Stock Price')\n",
        "plt.legend()\n",
        "plt.show()"
      ],
      "execution_count": null,
      "outputs": [
        {
          "output_type": "display_data",
          "data": {
            "text/plain": [
              "<Figure size 1008x360 with 1 Axes>"
            ],
            "image/png": "[encoded data removed]"
          },
          "metadata": {
            "needs_background": "light"
          }
        }
      ]
    },
    {
      "cell_type": "markdown",
      "source": [
        "THIRD GRU "
      ],
      "metadata": {
        "id": "0mDm4uGOKU9e"
      }
    },
    {
      "cell_type": "code",
      "metadata": {
        "id": "v7y6HIK8RITH"
      },
      "source": [
        "#BUILDING THE GRU\n",
        "from tensorflow.keras import Sequential\n",
        "from tensorflow.keras.layers import Dense, GRU, Dropout \n",
        "\n",
        "model = Sequential()\n",
        "model.add(GRU(units=70, activation= \"tanh\", return_sequences= True, input_shape = (X_train.shape[1] , 5))) #THE 2 INPUT PARAMETERS, how many units/layers you want in LSTM network\n",
        "model.add(Dropout(0.2)) \n",
        "\n",
        "\n",
        "model.add(GRU(units=130, activation= \"tanh\"))\n",
        "model.add(Dropout(0.2)) \n",
        "model.add(Dense(units = 1))"
      ],
      "execution_count": null,
      "outputs": []
    },
    {
      "cell_type": "code",
      "metadata": {
        "colab": {
          "base_uri": "https://localhost:8080/"
        },
        "outputId": "e8107080-a6b4-49df-fff4-19e43ba09062",
        "id": "6OzVv3fwRITH"
      },
      "source": [
        "model.summary()"
      ],
      "execution_count": null,
      "outputs": [
        {
          "output_type": "stream",
          "name": "stdout",
          "text": [
            "Model: \"sequential_13\"\n",
            "_________________________________________________________________\n",
            " Layer (type)                Output Shape              Param #   \n",
            "=================================================================\n",
            " gru_24 (GRU)                (None, 30, 70)            16170     \n",
            "                                                                 \n",
            " dropout_32 (Dropout)        (None, 30, 70)            0         \n",
            "                                                                 \n",
            " gru_25 (GRU)                (None, 130)               78780     \n",
            "                                                                 \n",
            " dropout_33 (Dropout)        (None, 130)               0         \n",
            "                                                                 \n",
            " dense_13 (Dense)            (None, 1)                 131       \n",
            "                                                                 \n",
            "=================================================================\n",
            "Total params: 95,081\n",
            "Trainable params: 95,081\n",
            "Non-trainable params: 0\n",
            "_________________________________________________________________\n"
          ]
        }
      ]
    },
    {
      "cell_type": "code",
      "metadata": {
        "id": "bjz6JrH0RITI"
      },
      "source": [
        "model.compile(optimizer= \"adam\", loss = \"mean_squared_error\") "
      ],
      "execution_count": null,
      "outputs": []
    },
    {
      "cell_type": "code",
      "metadata": {
        "colab": {
          "base_uri": "https://localhost:8080/"
        },
        "outputId": "55feb75c-f37d-4559-91f8-6701532b3052",
        "id": "caJ_Olo6RITI"
      },
      "source": [
        "model.fit(X_train, Y_train, epochs=10, batch_size = 32)\n"
      ],
      "execution_count": null,
      "outputs": [
        {
          "output_type": "stream",
          "name": "stdout",
          "text": [
            "Epoch 1/10\n",
            "58/58 [==============================] - 3s 7ms/step - loss: 0.0073\n",
            "Epoch 2/10\n",
            "58/58 [==============================] - 0s 6ms/step - loss: 0.0012\n",
            "Epoch 3/10\n",
            "58/58 [==============================] - 0s 7ms/step - loss: 9.5925e-04\n",
            "Epoch 4/10\n",
            "58/58 [==============================] - 0s 7ms/step - loss: 9.9256e-04\n",
            "Epoch 5/10\n",
            "58/58 [==============================] - 0s 7ms/step - loss: 7.3704e-04\n",
            "Epoch 6/10\n",
            "58/58 [==============================] - 0s 7ms/step - loss: 7.6779e-04\n",
            "Epoch 7/10\n",
            "58/58 [==============================] - 0s 7ms/step - loss: 6.5046e-04\n",
            "Epoch 8/10\n",
            "58/58 [==============================] - 0s 7ms/step - loss: 6.5608e-04\n",
            "Epoch 9/10\n",
            "58/58 [==============================] - 0s 7ms/step - loss: 6.2304e-04\n",
            "Epoch 10/10\n",
            "58/58 [==============================] - 0s 6ms/step - loss: 5.9065e-04\n"
          ]
        },
        {
          "output_type": "execute_result",
          "data": {
            "text/plain": [
              "<keras.callbacks.History at 0x7f34b476f410>"
            ]
          },
          "metadata": {},
          "execution_count": 189
        }
      ]
    },
    {
      "cell_type": "code",
      "source": [
        "plt.figure(figsize=(14,5))\n",
        "plt.plot(history.history['loss'], color = 'red', label = 'loss')\n",
        "plt.title('MSE loss')\n",
        "\n",
        "plt.legend()\n",
        "plt.show()"
      ],
      "metadata": {
        "colab": {
          "base_uri": "https://localhost:8080/",
          "height": 336
        },
        "outputId": "c80e5537-8131-4a25-d85c-4c48946b7c4b",
        "id": "aSWyW_r8g4Wd"
      },
      "execution_count": null,
      "outputs": [
        {
          "output_type": "display_data",
          "data": {
            "text/plain": [
              "<Figure size 1008x360 with 1 Axes>"
            ],
            "image/png": "[encoded data removed]"
          },
          "metadata": {
            "needs_background": "light"
          }
        }
      ]
    },
    {
      "cell_type": "code",
      "metadata": {
        "id": "9rf8Lw_-RITI"
      },
      "source": [
        "past_30_days = data_train.tail(30)\n",
        "df= past_30_days.append (data_test, ignore_index= True)\n",
        "df = df.drop (['Date', 'Adj Close'], axis =1)"
      ],
      "execution_count": null,
      "outputs": []
    },
    {
      "cell_type": "code",
      "metadata": {
        "id": "ZXfl19r9RITI"
      },
      "source": [
        "inputs = scaler.transform(df)\n"
      ],
      "execution_count": null,
      "outputs": []
    },
    {
      "cell_type": "code",
      "metadata": {
        "id": "5_ubGCbJRITI"
      },
      "source": [
        "X_test = []\n",
        "y_test = []\n",
        "\n",
        "for i in range (30, inputs.shape[0]):\n",
        "  X_test.append (inputs[i-30:i])\n",
        "  y_test.append (inputs[i,0]) \n",
        "X_test, y_test = np.array (X_test), np.array(y_test)\n"
      ],
      "execution_count": null,
      "outputs": []
    },
    {
      "cell_type": "code",
      "metadata": {
        "id": "IvjxVPlQRITI"
      },
      "source": [
        "y_pred= model.predict (X_test)"
      ],
      "execution_count": null,
      "outputs": []
    },
    {
      "cell_type": "code",
      "source": [
        "error = y_pred - y_test\n",
        "mse = np.square(error).mean()\n",
        "mse"
      ],
      "metadata": {
        "colab": {
          "base_uri": "https://localhost:8080/"
        },
        "outputId": "56a448be-5fee-48ae-a14c-76275c2aaa0f",
        "id": "tbZixlhkRITI"
      },
      "execution_count": null,
      "outputs": [
        {
          "output_type": "execute_result",
          "data": {
            "text/plain": [
              "0.018437519536963473"
            ]
          },
          "metadata": {},
          "execution_count": 198
        }
      ]
    },
    {
      "cell_type": "code",
      "metadata": {
        "colab": {
          "base_uri": "https://localhost:8080/"
        },
        "outputId": "45475831-2f74-429f-f9e8-6749bb7c8d7e",
        "id": "l84W_wQDRITI"
      },
      "source": [
        "scaler.scale_"
      ],
      "execution_count": null,
      "outputs": [
        {
          "output_type": "execute_result",
          "data": {
            "text/plain": [
              "array([5.21639042e-04, 5.10787860e-04, 5.21905697e-04, 5.15812629e-04,\n",
              "       8.95543293e-08])"
            ]
          },
          "metadata": {},
          "execution_count": 199
        }
      ]
    },
    {
      "cell_type": "code",
      "metadata": {
        "colab": {
          "base_uri": "https://localhost:8080/"
        },
        "outputId": "677efb38-9e33-44d3-de30-e949cc8afdb3",
        "id": "WOUlLip5RITI"
      },
      "source": [
        "scale = 1/5.21639042e-04\n",
        "scale"
      ],
      "execution_count": null,
      "outputs": [
        {
          "output_type": "execute_result",
          "data": {
            "text/plain": [
              "1917.0344232017817"
            ]
          },
          "metadata": {},
          "execution_count": 200
        }
      ]
    },
    {
      "cell_type": "code",
      "metadata": {
        "id": "PXIkJdjaRITI"
      },
      "source": [
        "y_pred = y_pred*scale\n",
        "y_test = y_test*scale"
      ],
      "execution_count": null,
      "outputs": []
    },
    {
      "cell_type": "markdown",
      "metadata": {
        "id": "V0ThfewKRITI"
      },
      "source": [
        "Visualization"
      ]
    },
    {
      "cell_type": "code",
      "metadata": {
        "colab": {
          "base_uri": "https://localhost:8080/",
          "height": 350
        },
        "outputId": "f9228235-87cc-4081-bc74-11297044506d",
        "id": "adB8VHzyRITI"
      },
      "source": [
        "plt.figure(figsize=(14,5))\n",
        "plt.plot(y_test, color = 'red', label = 'Real Google Stock Price')\n",
        "plt.plot(y_pred, color = 'blue', label = 'Predicted Google Stock Price')\n",
        "plt.title('Google Stock Price Prediction')\n",
        "plt.xlabel('Time')\n",
        "plt.ylabel('Google Stock Price')\n",
        "plt.legend()\n",
        "plt.show()"
      ],
      "execution_count": null,
      "outputs": [
        {
          "output_type": "display_data",
          "data": {
            "text/plain": [
              "<Figure size 1008x360 with 1 Axes>"
            ],
            "image/png": "[encoded data removed]"
          },
          "metadata": {
            "needs_background": "light"
          }
        }
      ]
    }
  ]
}